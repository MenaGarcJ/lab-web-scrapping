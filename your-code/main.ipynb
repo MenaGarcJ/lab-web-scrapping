{
 "cells": [
  {
   "cell_type": "markdown",
   "metadata": {},
   "source": [
    "- [Requests library](http://docs.python-requests.org/en/master/#the-user-guide) documentation \n",
    "- [Beautiful Soup Doc](https://www.crummy.com/software/BeautifulSoup/bs4/doc/)\n",
    "- [Urllib](https://docs.python.org/3/library/urllib.html#module-urllib)\n",
    "- [re lib](https://docs.python.org/3/library/re.html)\n",
    "- [lxml lib](https://lxml.de/)\n",
    "- [Scrapy](https://scrapy.org/)\n",
    "- [List of HTTP status codes](https://en.wikipedia.org/wiki/List_of_HTTP_status_codes)\n",
    "- [HTML basics](http://www.simplehtmlguide.com/cheatsheet.php)\n",
    "- [CSS basics](https://www.cssbasics.com/#page_start)"
   ]
  },
  {
   "cell_type": "markdown",
   "metadata": {},
   "source": [
    "#### Below are the libraries and modules you may need. `requests`,  `BeautifulSoup` and `pandas` are imported for you. If you prefer to use additional libraries feel free to uncomment them."
   ]
  },
  {
   "cell_type": "code",
   "execution_count": 1,
   "metadata": {},
   "outputs": [],
   "source": [
    "import requests\n",
    "from bs4 import BeautifulSoup\n",
    "import pandas as pd\n",
    "# from pprint import pprint\n",
    "# from lxml import html\n",
    "# from lxml.html import fromstring\n",
    "# import urllib.request\n",
    "# from urllib.request import urlopen\n",
    "# import random\n",
    "# import re\n",
    "# import scrapy"
   ]
  },
  {
   "cell_type": "markdown",
   "metadata": {},
   "source": [
    "#### Download, parse (using BeautifulSoup), and print the content from the Trending Developers page from GitHub:"
   ]
  },
  {
   "cell_type": "code",
   "execution_count": 3,
   "metadata": {},
   "outputs": [],
   "source": [
    "# This is the url you will scrape in this exercise\n",
    "url = 'https://github.com/trending/developers'"
   ]
  },
  {
   "cell_type": "code",
   "execution_count": 12,
   "metadata": {
    "scrolled": true
   },
   "outputs": [
    {
     "data": {
      "text/plain": [
       "['Learn and contribute',\n",
       " 'Connect with others',\n",
       " 'Trending',\n",
       " '\\n      These are the developers building the hot tools today.\\n    ',\n",
       " '\\n\\n            Armani Ferrante\\n ',\n",
       " '\\n\\n              armaniferrante\\n ',\n",
       " ' San Francisco, California',\n",
       " '\\n\\n            Julien Le Coupanec\\n ',\n",
       " '\\n\\n              LeCoupa\\n ',\n",
       " '\\n\\n\\n      awesome-cheatsheets\\n ',\n",
       " '\\n\\n            Anton Medvedev\\n ',\n",
       " '\\n\\n              antonmedv\\n ',\n",
       " '\\n\\n\\n      fx\\n ',\n",
       " '\\n\\n            Kyle Conroy\\n ',\n",
       " '\\n\\n              kyleconroy\\n ',\n",
       " '\\n\\n\\n      sqlc\\n ',\n",
       " '\\n\\n            mattn\\n ',\n",
       " '\\n\\n              mattn\\n ',\n",
       " '\\n\\n\\n      go-sqlite3\\n ',\n",
       " '\\n\\n            Bartlomiej Plotka\\n ',\n",
       " '\\n\\n              bwplotka\\n ',\n",
       " '\\n\\n\\n      unity-grpc\\n ',\n",
       " '\\n\\n            Will McGugan\\n ',\n",
       " '\\n\\n              willmcgugan\\n ',\n",
       " '\\n\\n\\n      rich\\n ',\n",
       " '\\n\\n            Stephan Dilly\\n ',\n",
       " '\\n\\n              extrawurst\\n ',\n",
       " '\\n\\n\\n      gitui\\n ',\n",
       " '\\n\\n            Juliette\\n ',\n",
       " '\\n\\n              jrfnl\\n ',\n",
       " ' Advies en zo',\n",
       " '\\n\\n            陈帅\\n ',\n",
       " '\\n\\n              chenshuai2144\\n ',\n",
       " '\\n\\n\\n      useMediaQuery\\n ',\n",
       " '\\n\\n            Andrey Sitnik\\n ',\n",
       " '\\n\\n              ai\\n ',\n",
       " '\\n\\n\\n      nanoid\\n ',\n",
       " '\\n\\n            Marc Rousavy\\n ',\n",
       " '\\n\\n              mrousavy\\n ',\n",
       " '\\n\\n\\n      react-native-mmkv\\n ',\n",
       " '\\n\\n            Josh Bleecher Snyder\\n ',\n",
       " '\\n\\n              josharian\\n ',\n",
       " '\\n\\n\\n      impl\\n ',\n",
       " '\\n\\n            Ritchie Vink\\n ',\n",
       " '\\n\\n              ritchie46\\n ',\n",
       " '\\n\\n\\n      serverless-model-aws\\n ',\n",
       " '\\n\\n            maiyang\\n ',\n",
       " '\\n\\n              yangwenmai\\n ',\n",
       " '\\n\\n\\n      learning-golang\\n ',\n",
       " '\\n\\n            David Pedersen\\n ',\n",
       " '\\n\\n              davidpdrsn\\n ',\n",
       " '\\n\\n\\n      json-parser\\n ',\n",
       " '\\n\\n            Kenny Kerr\\n ',\n",
       " '\\n\\n              kennykerr\\n ',\n",
       " '\\n\\n\\n      cppwinrt\\n ',\n",
       " '\\n\\n            Ha Thach\\n ',\n",
       " '\\n\\n              hathach\\n ',\n",
       " '\\n\\n\\n      tinyusb\\n ',\n",
       " '\\n\\n            Arvid Norberg\\n ',\n",
       " '\\n\\n              arvidn\\n ',\n",
       " '\\n\\n\\n      libtorrent\\n ',\n",
       " '\\n\\n            Simon Ser\\n ',\n",
       " '\\n\\n              emersion\\n ',\n",
       " '\\n\\n\\n      go-imap\\n ',\n",
       " '\\n\\n            Rich Harris\\n ',\n",
       " '\\n\\n              Rich-Harris\\n ',\n",
       " '\\n\\n\\n      magic-string\\n ',\n",
       " '\\n\\n            Vishal Rajput\\n ',\n",
       " '\\n\\n              Vishal-raj-1\\n ',\n",
       " '\\n\\n\\n      Awesome-JavaScript-Projects\\n ',\n",
       " '\\n\\n            Hongbo Zhang\\n ',\n",
       " '\\n\\n              bobzhang\\n ',\n",
       " ' Joined on Apr 23, 2011',\n",
       " '\\n\\n            Paweł Spychalski\\n ',\n",
       " '\\n\\n              DzikuVx\\n ',\n",
       " '\\n\\n\\n      sbus-range-tester\\n ',\n",
       " '\\n\\n            PySimpleGUI\\n ',\n",
       " '\\n\\n              PySimpleGUI\\n ',\n",
       " '\\n\\n\\n      PySimpleGUI\\n ']"
      ]
     },
     "execution_count": 12,
     "metadata": {},
     "output_type": "execute_result"
    }
   ],
   "source": [
    "#your code\n",
    "\n",
    "html = requests.get(url).content\n",
    "html[0:100]\n",
    "\n",
    "soup = BeautifulSoup(html, 'lxml')\n",
    "soup\n",
    "\n",
    "tags = ['h1', 'h2', 'h3', 'h4', 'h5', 'h6', 'h7', 'p']\n",
    "text = [element.text for element in soup.find_all(tags)]\n",
    "text\n"
   ]
  },
  {
   "cell_type": "markdown",
   "metadata": {},
   "source": [
    "#### Display the names of the trending developers retrieved in the previous step.\n",
    "\n",
    "Your output should be a Python list of developer names. Each name should not contain any html tag.\n",
    "\n",
    "**Instructions:**\n",
    "\n",
    "1. Find out the html tag and class names used for the developer names. You can achieve this using Chrome DevTools.\n",
    "\n",
    "1. Use BeautifulSoup to extract all the html elements that contain the developer names.\n",
    "\n",
    "1. Use string manipulation techniques to replace whitespaces and linebreaks (i.e. `\\n`) in the *text* of each html element. Use a list to store the clean names.\n",
    "\n",
    "1. Print the list of names.\n",
    "\n",
    "Your output should look like below:\n",
    "\n",
    "```\n",
    "['trimstray (@trimstray)',\n",
    " 'joewalnes (JoeWalnes)',\n",
    " 'charlax (Charles-AxelDein)',\n",
    " 'ForrestKnight (ForrestKnight)',\n",
    " 'revery-ui (revery-ui)',\n",
    " 'alibaba (Alibaba)',\n",
    " 'Microsoft (Microsoft)',\n",
    " 'github (GitHub)',\n",
    " 'facebook (Facebook)',\n",
    " 'boazsegev (Bo)',\n",
    " 'google (Google)',\n",
    " 'cloudfetch',\n",
    " 'sindresorhus (SindreSorhus)',\n",
    " 'tensorflow',\n",
    " 'apache (TheApacheSoftwareFoundation)',\n",
    " 'DevonCrawford (DevonCrawford)',\n",
    " 'ARMmbed (ArmMbed)',\n",
    " 'vuejs (vuejs)',\n",
    " 'fastai (fast.ai)',\n",
    " 'QiShaoXuan (Qi)',\n",
    " 'joelparkerhenderson (JoelParkerHenderson)',\n",
    " 'torvalds (LinusTorvalds)',\n",
    " 'CyC2018',\n",
    " 'komeiji-satori (神楽坂覚々)',\n",
    " 'script-8']\n",
    " ```"
   ]
  },
  {
   "cell_type": "code",
   "execution_count": 19,
   "metadata": {
    "scrolled": true
   },
   "outputs": [
    {
     "data": {
      "text/plain": [
       "['Learn and contribute',\n",
       " 'Connect with others',\n",
       " 'Trending',\n",
       " 'These are the developers building the hot tools today.',\n",
       " 'Armani Ferrante',\n",
       " 'armaniferrante',\n",
       " 'San Francisco, California',\n",
       " 'Julien Le Coupanec',\n",
       " 'LeCoupa',\n",
       " 'awesome-cheatsheets',\n",
       " 'Anton Medvedev',\n",
       " 'antonmedv',\n",
       " 'fx',\n",
       " 'Kyle Conroy',\n",
       " 'kyleconroy',\n",
       " 'sqlc',\n",
       " 'mattn',\n",
       " 'mattn',\n",
       " 'go-sqlite3',\n",
       " 'Bartlomiej Plotka',\n",
       " 'bwplotka',\n",
       " 'unity-grpc',\n",
       " 'Will McGugan',\n",
       " 'willmcgugan',\n",
       " 'rich',\n",
       " 'Stephan Dilly',\n",
       " 'extrawurst',\n",
       " 'gitui',\n",
       " 'Juliette',\n",
       " 'jrfnl',\n",
       " 'Advies en zo',\n",
       " '陈帅',\n",
       " 'chenshuai2144',\n",
       " 'useMediaQuery',\n",
       " 'Andrey Sitnik',\n",
       " 'ai',\n",
       " 'nanoid',\n",
       " 'Marc Rousavy',\n",
       " 'mrousavy',\n",
       " 'react-native-mmkv',\n",
       " 'Josh Bleecher Snyder',\n",
       " 'josharian',\n",
       " 'impl',\n",
       " 'Ritchie Vink',\n",
       " 'ritchie46',\n",
       " 'serverless-model-aws',\n",
       " 'maiyang',\n",
       " 'yangwenmai',\n",
       " 'learning-golang',\n",
       " 'David Pedersen',\n",
       " 'davidpdrsn',\n",
       " 'json-parser',\n",
       " 'Kenny Kerr',\n",
       " 'kennykerr',\n",
       " 'cppwinrt',\n",
       " 'Ha Thach',\n",
       " 'hathach',\n",
       " 'tinyusb',\n",
       " 'Arvid Norberg',\n",
       " 'arvidn',\n",
       " 'libtorrent',\n",
       " 'Simon Ser',\n",
       " 'emersion',\n",
       " 'go-imap',\n",
       " 'Rich Harris',\n",
       " 'Rich-Harris',\n",
       " 'magic-string',\n",
       " 'Vishal Rajput',\n",
       " 'Vishal-raj-1',\n",
       " 'Awesome-JavaScript-Projects',\n",
       " 'Hongbo Zhang',\n",
       " 'bobzhang',\n",
       " 'Joined on Apr 23, 2011',\n",
       " 'Paweł Spychalski',\n",
       " 'DzikuVx',\n",
       " 'sbus-range-tester',\n",
       " 'PySimpleGUI',\n",
       " 'PySimpleGUI',\n",
       " 'PySimpleGUI']"
      ]
     },
     "execution_count": 19,
     "metadata": {},
     "output_type": "execute_result"
    }
   ],
   "source": [
    "#your code\n",
    "\n",
    "text_clean = [te.strip() for te in text]\n",
    "text_clean"
   ]
  },
  {
   "cell_type": "markdown",
   "metadata": {},
   "source": [
    "#### Display the trending Python repositories in GitHub\n",
    "\n",
    "The steps to solve this problem is similar to the previous one except that you need to find out the repository names instead of developer names."
   ]
  },
  {
   "cell_type": "code",
   "execution_count": 20,
   "metadata": {},
   "outputs": [],
   "source": [
    "# This is the url you will scrape in this exercise\n",
    "url = 'https://github.com/trending/python?since=daily'"
   ]
  },
  {
   "cell_type": "code",
   "execution_count": 22,
   "metadata": {},
   "outputs": [
    {
     "data": {
      "text/plain": [
       "['Learn and contribute',\n",
       " 'Connect with others',\n",
       " 'Trending',\n",
       " 'See what the GitHub community is most excited about today.',\n",
       " 'donnemartin /\\n\\n      system-design-primer',\n",
       " 'Learn how to design large-scale systems. Prep for the system design interview. Includes Anki flashcards.',\n",
       " 'pyston /\\n\\n      pyston',\n",
       " 'A faster and highly-compatible implementation of the Python programming language.',\n",
       " 'pallupz /\\n\\n      covid-vaccine-booking',\n",
       " 'This very basic script can be used to automate some steps on Co-WIN Platform.',\n",
       " 'hellerve /\\n\\n      programming-talks',\n",
       " 'Awesome & interesting talks about programming',\n",
       " 'ericaltendorf /\\n\\n      plotman',\n",
       " 'Chia plotting manager',\n",
       " 'fighting41love /\\n\\n      funNLP',\n",
       " '中英文敏感词、语言检测、中外手机/电话归属地/运营商查询、名字推断性别、手机号抽取、身份证抽取、邮箱抽取、中日文人名库、中文缩写库、拆字词典、词汇情感值、停用词、反动词表、暴恐词表、繁简体转换、英文模拟中文发音、汪峰歌词生成器、职业名称词库、同义词库、反义词库、否定词库、汽车品牌词库、汽车零件词库、连续英文切割、各种中文词向量、公司名字大全、古诗词库、IT词库、财经词库、成语词库、地名词库、历史名人词库、诗词词库、医学词库、饮食词库、法律词库、汽车词库、动物词库、中文聊天语料、中文谣言数据、百度中文问答数据集、句子相似度匹配算法集合、bert资源、文本生成&摘要相关工具、cocoNLP信息抽取工具、国内电话号码正则匹配、清华大学XLORE:中英文跨语言百科知识图谱、清华大学人工智能技术…',\n",
       " 'Chia-Network /\\n\\n      chia-blockchain',\n",
       " 'Chia blockchain python implementation (full node, farmer, harvester, timelord, and wallet)',\n",
       " 'd2l-ai /\\n\\n      d2l-en',\n",
       " 'Interactive deep learning book with multi-framework code, math, and discussions. Adopted at 175 universities.',\n",
       " 'TheAlgorithms /\\n\\n      Python',\n",
       " 'All Algorithms implemented in Python',\n",
       " 'Mukosame /\\n\\n      Anime2Sketch',\n",
       " 'A sketch extractor for anime/illustration.',\n",
       " 'swar /\\n\\n      Swar-Chia-Plot-Manager',\n",
       " 'This is a Cross-Platform Plot Manager for Chia Plotting that is simple, easy-to-use, and reliable.',\n",
       " 'Z4nzu /\\n\\n      hackingtool',\n",
       " 'ALL IN ONE Hacking Tool For Hackers',\n",
       " 'Rog3rSm1th /\\n\\n      Profil3r',\n",
       " \"OSINT tool that allows you to find a person's accounts and emails + breached emails 🕵️\",\n",
       " 'NVlabs /\\n\\n      stylegan2',\n",
       " 'StyleGAN2 - Official TensorFlow Implementation',\n",
       " 'httpie /\\n\\n      httpie',\n",
       " 'As easy as /aitch-tee-tee-pie/ 🥧 Modern, user-friendly command-line HTTP client for the API era. JSON support, colors, sessions, downloads, plugins & more. https://twitter.com/httpie',\n",
       " 'lucidrains /\\n\\n      mlp-mixer-pytorch',\n",
       " 'An All-MLP solution for Vision, from Google AI',\n",
       " '3b1b /\\n\\n      manim',\n",
       " 'Animation engine for explanatory math videos',\n",
       " 'msxie92 /\\n\\n      MangaRestoration',\n",
       " 'Implementation for \"Exploiting Aliasing for Manga Restoration\" (CVPR 2021)',\n",
       " 'opsdisk /\\n\\n      pagodo',\n",
       " 'pagodo (Passive Google Dork) - Automate Google Hacking Database scraping and searching',\n",
       " 'ycm-core /\\n\\n      YouCompleteMe',\n",
       " 'A code-completion engine for Vim',\n",
       " 'MisterHW /\\n\\n      44780HD',\n",
       " 'leeyiding /\\n\\n      get_CCB',\n",
       " 'Binance-docs /\\n\\n      Binance_Futures_python',\n",
       " 'wbt5 /\\n\\n      real-url',\n",
       " '获取斗鱼&虎牙&哔哩哔哩&抖音&快手等 48 个直播平台的真实流媒体地址(直播源)和弹幕，直播源可在 PotPlayer、flv.js 等播放器中播放。',\n",
       " 'donnemartin /\\n\\n      interactive-coding-challenges',\n",
       " '120+ interactive Python coding interview challenges (algorithms and data structures). Includes Anki flashcards.']"
      ]
     },
     "execution_count": 22,
     "metadata": {},
     "output_type": "execute_result"
    }
   ],
   "source": [
    "#your code\n",
    "\n",
    "html = requests.get(url).content\n",
    "html[0:100]\n",
    "\n",
    "soup = BeautifulSoup(html, 'lxml')\n",
    "soup\n",
    "\n",
    "tags = ['h1', 'h2', 'h3', 'h4', 'h5', 'h6', 'h7', 'p']\n",
    "text = [element.text for element in soup.find_all(tags)]\n",
    "text\n",
    "\n",
    "text_clean = [te.strip() for te in text]\n",
    "text_clean"
   ]
  },
  {
   "cell_type": "markdown",
   "metadata": {},
   "source": [
    "#### Display all the image links from Walt Disney wikipedia page"
   ]
  },
  {
   "cell_type": "code",
   "execution_count": null,
   "metadata": {},
   "outputs": [],
   "source": [
    "# This is the url you will scrape in this exercise\n",
    "url = 'https://en.wikipedia.org/wiki/Walt_Disney'"
   ]
  },
  {
   "cell_type": "code",
   "execution_count": null,
   "metadata": {},
   "outputs": [],
   "source": [
    "#your code"
   ]
  },
  {
   "cell_type": "markdown",
   "metadata": {},
   "source": [
    "#### Retrieve an arbitary Wikipedia page of \"Python\" and create a list of links on that page"
   ]
  },
  {
   "cell_type": "code",
   "execution_count": null,
   "metadata": {},
   "outputs": [],
   "source": [
    "# This is the url you will scrape in this exercise\n",
    "url ='https://en.wikipedia.org/wiki/Python' "
   ]
  },
  {
   "cell_type": "code",
   "execution_count": null,
   "metadata": {},
   "outputs": [],
   "source": [
    "#your code"
   ]
  },
  {
   "cell_type": "markdown",
   "metadata": {},
   "source": [
    "#### Number of Titles that have changed in the United States Code since its last release point "
   ]
  },
  {
   "cell_type": "code",
   "execution_count": null,
   "metadata": {},
   "outputs": [],
   "source": [
    "# This is the url you will scrape in this exercise\n",
    "url = 'http://uscode.house.gov/download/download.shtml'"
   ]
  },
  {
   "cell_type": "code",
   "execution_count": null,
   "metadata": {},
   "outputs": [],
   "source": [
    "#your code"
   ]
  },
  {
   "cell_type": "markdown",
   "metadata": {},
   "source": [
    "#### A Python list with the top ten FBI's Most Wanted names "
   ]
  },
  {
   "cell_type": "code",
   "execution_count": null,
   "metadata": {},
   "outputs": [],
   "source": [
    "# This is the url you will scrape in this exercise\n",
    "url = 'https://www.fbi.gov/wanted/topten'"
   ]
  },
  {
   "cell_type": "code",
   "execution_count": null,
   "metadata": {},
   "outputs": [],
   "source": [
    "#your code "
   ]
  },
  {
   "cell_type": "markdown",
   "metadata": {},
   "source": [
    "####  20 latest earthquakes info (date, time, latitude, longitude and region name) by the EMSC as a pandas dataframe"
   ]
  },
  {
   "cell_type": "code",
   "execution_count": null,
   "metadata": {},
   "outputs": [],
   "source": [
    "# This is the url you will scrape in this exercise\n",
    "url = 'https://www.emsc-csem.org/Earthquake/'"
   ]
  },
  {
   "cell_type": "code",
   "execution_count": null,
   "metadata": {},
   "outputs": [],
   "source": [
    "#your code"
   ]
  },
  {
   "cell_type": "markdown",
   "metadata": {},
   "source": [
    "#### Display the date, days, title, city, country of next 25 hackathon events as a Pandas dataframe table"
   ]
  },
  {
   "cell_type": "code",
   "execution_count": null,
   "metadata": {},
   "outputs": [],
   "source": [
    "# This is the url you will scrape in this exercise\n",
    "url ='https://hackevents.co/hackathons'"
   ]
  },
  {
   "cell_type": "code",
   "execution_count": null,
   "metadata": {},
   "outputs": [],
   "source": [
    "#your code"
   ]
  },
  {
   "cell_type": "markdown",
   "metadata": {},
   "source": [
    "#### Count number of tweets by a given Twitter account."
   ]
  },
  {
   "cell_type": "markdown",
   "metadata": {},
   "source": [
    "You will need to include a ***try/except block*** for account names not found. \n",
    "<br>***Hint:*** the program should count the number of tweets for any provided account"
   ]
  },
  {
   "cell_type": "code",
   "execution_count": null,
   "metadata": {},
   "outputs": [],
   "source": [
    "# This is the url you will scrape in this exercise \n",
    "# You will need to add the account credentials to this url\n",
    "url = 'https://twitter.com/'"
   ]
  },
  {
   "cell_type": "code",
   "execution_count": null,
   "metadata": {},
   "outputs": [],
   "source": [
    "#your code"
   ]
  },
  {
   "cell_type": "markdown",
   "metadata": {},
   "source": [
    "#### Number of followers of a given twitter account"
   ]
  },
  {
   "cell_type": "markdown",
   "metadata": {},
   "source": [
    "You will need to include a ***try/except block*** in case account/s name not found. \n",
    "<br>***Hint:*** the program should count the followers for any provided account"
   ]
  },
  {
   "cell_type": "code",
   "execution_count": null,
   "metadata": {},
   "outputs": [],
   "source": [
    "# This is the url you will scrape in this exercise \n",
    "# You will need to add the account credentials to this url\n",
    "url = 'https://twitter.com/'"
   ]
  },
  {
   "cell_type": "code",
   "execution_count": null,
   "metadata": {},
   "outputs": [],
   "source": [
    "#your code"
   ]
  },
  {
   "cell_type": "markdown",
   "metadata": {},
   "source": [
    "#### List all language names and number of related articles in the order they appear in wikipedia.org"
   ]
  },
  {
   "cell_type": "code",
   "execution_count": null,
   "metadata": {},
   "outputs": [],
   "source": [
    "# This is the url you will scrape in this exercise\n",
    "url = 'https://www.wikipedia.org/'"
   ]
  },
  {
   "cell_type": "code",
   "execution_count": null,
   "metadata": {},
   "outputs": [],
   "source": [
    "#your code"
   ]
  },
  {
   "cell_type": "markdown",
   "metadata": {},
   "source": [
    "#### A list with the different kind of datasets available in data.gov.uk "
   ]
  },
  {
   "cell_type": "code",
   "execution_count": null,
   "metadata": {},
   "outputs": [],
   "source": [
    "# This is the url you will scrape in this exercise\n",
    "url = 'https://data.gov.uk/'"
   ]
  },
  {
   "cell_type": "code",
   "execution_count": null,
   "metadata": {},
   "outputs": [],
   "source": [
    "#your code "
   ]
  },
  {
   "cell_type": "markdown",
   "metadata": {},
   "source": [
    "#### Top 10 languages by number of native speakers stored in a Pandas Dataframe"
   ]
  },
  {
   "cell_type": "code",
   "execution_count": null,
   "metadata": {},
   "outputs": [],
   "source": [
    "# This is the url you will scrape in this exercise\n",
    "url = 'https://en.wikipedia.org/wiki/List_of_languages_by_number_of_native_speakers'"
   ]
  },
  {
   "cell_type": "code",
   "execution_count": null,
   "metadata": {},
   "outputs": [],
   "source": [
    "#your code"
   ]
  },
  {
   "cell_type": "markdown",
   "metadata": {},
   "source": [
    "### BONUS QUESTIONS"
   ]
  },
  {
   "cell_type": "markdown",
   "metadata": {},
   "source": [
    "#### Scrape a certain number of tweets of a given Twitter account."
   ]
  },
  {
   "cell_type": "code",
   "execution_count": null,
   "metadata": {},
   "outputs": [],
   "source": [
    "# This is the url you will scrape in this exercise \n",
    "# You will need to add the account credentials to this url\n",
    "url = 'https://twitter.com/'"
   ]
  },
  {
   "cell_type": "code",
   "execution_count": null,
   "metadata": {},
   "outputs": [],
   "source": [
    "# your code"
   ]
  },
  {
   "cell_type": "markdown",
   "metadata": {},
   "source": [
    "#### IMDB's Top 250 data (movie name, Initial release, director name and stars) as a pandas dataframe"
   ]
  },
  {
   "cell_type": "code",
   "execution_count": null,
   "metadata": {},
   "outputs": [],
   "source": [
    "# This is the url you will scrape in this exercise \n",
    "url = 'https://www.imdb.com/chart/top'"
   ]
  },
  {
   "cell_type": "code",
   "execution_count": null,
   "metadata": {},
   "outputs": [],
   "source": [
    "# your code"
   ]
  },
  {
   "cell_type": "markdown",
   "metadata": {},
   "source": [
    "#### Movie name, year and a brief summary of the top 10 random movies (IMDB) as a pandas dataframe."
   ]
  },
  {
   "cell_type": "code",
   "execution_count": null,
   "metadata": {},
   "outputs": [],
   "source": [
    "#This is the url you will scrape in this exercise\n",
    "url = 'http://www.imdb.com/chart/top'"
   ]
  },
  {
   "cell_type": "code",
   "execution_count": null,
   "metadata": {},
   "outputs": [],
   "source": [
    "#your code"
   ]
  },
  {
   "cell_type": "markdown",
   "metadata": {},
   "source": [
    "#### Find the live weather report (temperature, wind speed, description and weather) of a given city."
   ]
  },
  {
   "cell_type": "code",
   "execution_count": null,
   "metadata": {},
   "outputs": [],
   "source": [
    "#https://openweathermap.org/current\n",
    "city = city=input('Enter the city:')\n",
    "url = 'http://api.openweathermap.org/data/2.5/weather?'+'q='+city+'&APPID=b35975e18dc93725acb092f7272cc6b8&units=metric'"
   ]
  },
  {
   "cell_type": "code",
   "execution_count": null,
   "metadata": {},
   "outputs": [],
   "source": [
    "# your code"
   ]
  },
  {
   "cell_type": "markdown",
   "metadata": {},
   "source": [
    "#### Book name,price and stock availability as a pandas dataframe."
   ]
  },
  {
   "cell_type": "code",
   "execution_count": null,
   "metadata": {},
   "outputs": [],
   "source": [
    "# This is the url you will scrape in this exercise. \n",
    "# It is a fictional bookstore created to be scraped. \n",
    "url = 'http://books.toscrape.com/'"
   ]
  },
  {
   "cell_type": "code",
   "execution_count": null,
   "metadata": {},
   "outputs": [],
   "source": [
    "#your code"
   ]
  }
 ],
 "metadata": {
  "kernelspec": {
   "display_name": "Python 3",
   "language": "python",
   "name": "python3"
  },
  "language_info": {
   "codemirror_mode": {
    "name": "ipython",
    "version": 3
   },
   "file_extension": ".py",
   "mimetype": "text/x-python",
   "name": "python",
   "nbconvert_exporter": "python",
   "pygments_lexer": "ipython3",
   "version": "3.8.5"
  }
 },
 "nbformat": 4,
 "nbformat_minor": 2
}
